{
 "cells": [
  {
   "cell_type": "code",
   "execution_count": 2,
   "id": "a8313a76-f4f9-4829-a031-d6da7cdf9227",
   "metadata": {},
   "outputs": [
    {
     "ename": "ModuleNotFoundError",
     "evalue": "No module named 'matplotlib'",
     "output_type": "error",
     "traceback": [
      "\u001b[31m---------------------------------------------------------------------------\u001b[39m",
      "\u001b[31mModuleNotFoundError\u001b[39m                       Traceback (most recent call last)",
      "\u001b[36mCell\u001b[39m\u001b[36m \u001b[39m\u001b[32mIn[2]\u001b[39m\u001b[32m, line 1\u001b[39m\n\u001b[32m----> \u001b[39m\u001b[32m1\u001b[39m \u001b[38;5;28;01mimport\u001b[39;00m\u001b[38;5;250m \u001b[39m\u001b[34;01mmatplotlib\u001b[39;00m\u001b[34;01m.\u001b[39;00m\u001b[34;01mpyplot\u001b[39;00m\u001b[38;5;250m \u001b[39m\u001b[38;5;28;01mas\u001b[39;00m\u001b[38;5;250m \u001b[39m\u001b[34;01mplt\u001b[39;00m\n\u001b[32m      2\u001b[39m \u001b[38;5;28;01mimport\u001b[39;00m\u001b[38;5;250m \u001b[39m\u001b[34;01mnumpy\u001b[39;00m\u001b[38;5;250m \u001b[39m\u001b[38;5;28;01mas\u001b[39;00m\u001b[38;5;250m \u001b[39m\u001b[34;01mnp\u001b[39;00m\n",
      "\u001b[31mModuleNotFoundError\u001b[39m: No module named 'matplotlib'"
     ]
    }
   ],
   "source": [
    "import matplotlib.pyplot as plt\n",
    "import numpy as np\n"
   ]
  },
  {
   "cell_type": "code",
   "execution_count": 2,
   "id": "2ef9a476-8d38-4cad-9ae5-2c95db1fc423",
   "metadata": {},
   "outputs": [],
   "source": [
    "def Euler(y_0, t_0, h, f, T):\n",
    "    y_n=y_0\n",
    "    t_n=t_0\n",
    "\n",
    "    while (t_n < T):\n",
    "        y_n+=h*f(t_n,y_n)\n",
    "        t_n+=h\n",
    "\n",
    "    return y_n\n"
   ]
  },
  {
   "cell_type": "code",
   "execution_count": 3,
   "id": "bb28a515-aa02-439b-9e1c-dbe769dba3c8",
   "metadata": {},
   "outputs": [],
   "source": [
    "def mse(euler, true):\n",
    "    return np.square(euler-true).mean()"
   ]
  },
  {
   "cell_type": "code",
   "execution_count": null,
   "id": "704a6432-3768-45f5-b113-a043d1af616d",
   "metadata": {},
   "outputs": [],
   "source": [
    "t_0=0.0\n",
    "h=1e-5\n",
    "y_0=1.0\n",
    "T=100090\n",
    "e=Euler(y_0, t_0, h, lambda t,x : np.sin(x)*np.cos(t), T)\n",
    "print(T,e)"
   ]
  },
  {
   "cell_type": "code",
   "execution_count": null,
   "id": "355319b4-972e-4041-b074-b8e05f538416",
   "metadata": {},
   "outputs": [],
   "source": []
  }
 ],
 "metadata": {
  "kernelspec": {
   "display_name": "Python 3 (ipykernel)",
   "language": "python",
   "name": "python3"
  },
  "language_info": {
   "codemirror_mode": {
    "name": "ipython",
    "version": 3
   },
   "file_extension": ".py",
   "mimetype": "text/x-python",
   "name": "python",
   "nbconvert_exporter": "python",
   "pygments_lexer": "ipython3",
   "version": "3.11.11"
  }
 },
 "nbformat": 4,
 "nbformat_minor": 5
}
